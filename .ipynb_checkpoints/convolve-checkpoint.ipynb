{
 "cells": [
  {
   "cell_type": "code",
   "execution_count": 10,
   "metadata": {
    "collapsed": false,
    "scrolled": true
   },
   "outputs": [],
   "source": [
    "import matplotlib.pyplot as plt\n",
    "import matplotlib.image as mpimg\n",
    "import numpy as np\n",
    "import stsci.ndimage as ndimage\n",
    "\n",
    "def grayscale(img):\n",
    "    r, g, b = img[:,:,0], img[:,:,1], img[:,:,2]\n",
    "    gray = 0.2989 * r + 0.5870 * g + 0.1140 * b\n",
    "    return gray\n",
    "\n",
    "def normalize(array):\n",
    "    return (array[:,:]-min(array.flatten()))/(float(max(array.flatten())-min(array.flatten())))\n",
    "\n",
    "testdir='test_images/'"
   ]
  },
  {
   "cell_type": "code",
   "execution_count": 11,
   "metadata": {
    "collapsed": false
   },
   "outputs": [
    {
     "name": "stdout",
     "output_type": "stream",
     "text": [
      "[[ 1.  1.  1. ...,  1.  1.  1.]\n",
      " [ 1.  1.  1. ...,  1.  1.  1.]\n",
      " [ 1.  1.  1. ...,  1.  1.  1.]\n",
      " ..., \n",
      " [ 1.  1.  1. ...,  1.  1.  1.]\n",
      " [ 1.  1.  1. ...,  1.  1.  1.]\n",
      " [ 1.  1.  1. ...,  1.  1.  1.]]\n"
     ]
    }
   ],
   "source": [
    "img=mpimg.imread(testdir+'test1.png')      \n",
    "x_factor=200.0/float(img.shape[0])\n",
    "y_factor=200.0/float(img.shape[1])\n",
    "img=grayscale(img)\n",
    "img=ndimage.zoom(img, [x_factor, y_factor], mode='nearest', prefilter=False)\n",
    "\n",
    "\n",
    "kernel=np.ndarray((5,5)) #kernel size is nxn\n",
    "kernel+=1\n",
    "\n",
    "#kernel=np.random.rand(10,10) #random kernel\n",
    "#print kernel\n",
    "\n",
    "img=ndimage.convolve(img, kernel)\n",
    "\n",
    "img=normalize(img)\n",
    "\n",
    "print img\n",
    "plt.imshow(img, cmap='gray')\n",
    "plt.show()"
   ]
  }
 ],
 "metadata": {
  "kernelspec": {
   "display_name": "Python 2",
   "language": "python",
   "name": "python2"
  },
  "language_info": {
   "codemirror_mode": {
    "name": "ipython",
    "version": 2
   },
   "file_extension": ".py",
   "mimetype": "text/x-python",
   "name": "python",
   "nbconvert_exporter": "python",
   "pygments_lexer": "ipython2",
   "version": "2.7.8"
  }
 },
 "nbformat": 4,
 "nbformat_minor": 0
}
