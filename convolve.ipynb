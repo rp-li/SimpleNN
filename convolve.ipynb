{
 "cells": [
  {
   "cell_type": "code",
   "execution_count": 118,
   "metadata": {
    "collapsed": false,
    "scrolled": true
   },
   "outputs": [],
   "source": [
    "import matplotlib.pyplot as plt\n",
    "import matplotlib.image as mpimg\n",
    "import numpy as np\n",
    "import stsci.ndimage as ndimage\n",
    "\n",
    "def grayscale(img):\n",
    "    r, g, b = img[:,:,0], img[:,:,1], img[:,:,2]\n",
    "    gray = 0.2989 * r + 0.5870 * g + 0.1140 * b\n",
    "    return gray\n",
    "\n",
    "def normalize(array):\n",
    "    return (array[:,:]-min(array.flatten()))/(float(max(array.flatten())-min(array.flatten())))\n",
    "\n",
    "testdir='C:/Users/Ruoping/Desktop/ConvolveNN/test_images/'"
   ]
  },
  {
   "cell_type": "code",
   "execution_count": 150,
   "metadata": {
    "collapsed": false
   },
   "outputs": [
    {
     "name": "stdout",
     "output_type": "stream",
     "text": [
      "[[ 0.23672526  0.21452087  0.1951353  ...,  0.25393641  0.25698076\n",
      "   0.25821953]\n",
      " [ 0.24018399  0.21422983  0.19398164 ...,  0.24414396  0.24435273\n",
      "   0.24340497]\n",
      " [ 0.24215808  0.21568464  0.19165902 ...,  0.22508715  0.22630902\n",
      "   0.2254569 ]\n",
      " ..., \n",
      " [ 0.19160864  0.19642705  0.1967556  ...,  0.00760801  0.00827962\n",
      "   0.00691431]\n",
      " [ 0.20540242  0.20506963  0.20753595 ...,  0.00752399  0.00826821\n",
      "   0.00691431]\n",
      " [ 0.21435292  0.21509456  0.21121204 ...,  0.00750776  0.00826821\n",
      "   0.00691431]]\n"
     ]
    }
   ],
   "source": [
    "img=mpimg.imread(testdir+'image.jpg')      \n",
    "x_factor=200.0/float(img.shape[0])\n",
    "y_factor=200.0/float(img.shape[1])\n",
    "img=grayscale(img)\n",
    "img=ndimage.zoom(img, [x_factor, y_factor], mode='nearest', prefilter=False)\n",
    "\n",
    "\n",
    "kernel=np.ndarray((5,5)) #kernel size is nxn\n",
    "kernel+=1\n",
    "\n",
    "#kernel=np.random.rand(10,10) #random kernel\n",
    "#print kernel\n",
    "\n",
    "img=ndimage.convolve(img, kernel)\n",
    "\n",
    "img=normalize(img)\n",
    "\n",
    "print img\n",
    "plt.imshow(img, cmap='gray')\n",
    "plt.show()"
   ]
  }
 ],
 "metadata": {
  "kernelspec": {
   "display_name": "Python 2",
   "language": "python",
   "name": "python2"
  },
  "language_info": {
   "codemirror_mode": {
    "name": "ipython",
    "version": 2
   },
   "file_extension": ".py",
   "mimetype": "text/x-python",
   "name": "python",
   "nbconvert_exporter": "python",
   "pygments_lexer": "ipython2",
   "version": "2.7.8"
  }
 },
 "nbformat": 4,
 "nbformat_minor": 0
}
